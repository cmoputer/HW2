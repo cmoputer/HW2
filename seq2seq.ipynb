{
 "cells": [
  {
   "cell_type": "markdown",
   "metadata": {},
   "source": [
    "# Home 4: Build a seq2seq model for machine translation.\n",
    "\n",
    "### Name: Yao Xiao\n",
    "\n",
    "### Task: Translate English to Spanish"
   ]
  },
  {
   "cell_type": "markdown",
   "metadata": {},
   "source": [
    "## 1. Data preparation\n",
    "\n",
    "1. Download data (e.g., \"deu-eng.zip\") from http://www.manythings.org/anki/\n",
    "2. Unzip the .ZIP file.\n",
    "3. Put the .TXT file (e.g., \"deu.txt\") in the directory \"./Data/\"."
   ]
  },
  {
   "cell_type": "markdown",
   "metadata": {},
   "source": [
    "### 1.1. Load and clean text\n"
   ]
  },
  {
   "cell_type": "code",
   "execution_count": 1,
   "metadata": {},
   "outputs": [],
   "source": [
    "import re\n",
    "import string\n",
    "from unicodedata import normalize\n",
    "import numpy\n",
    "\n",
    "# load doc into memory\n",
    "def load_doc(filename):\n",
    "    # open the file as read only\n",
    "    file = open(filename, mode='rt', encoding='utf-8')\n",
    "    # read all text\n",
    "    text = file.read()\n",
    "    # close the file\n",
    "    file.close()\n",
    "    return text\n",
    "\n",
    "\n",
    "# split a loaded document into sentences\n",
    "def to_pairs(doc):\n",
    "    lines = doc.strip().split('\\n')\n",
    "    pairs = [line.split('\\t') for line in  lines]\n",
    "    return pairs\n",
    "\n",
    "def clean_data(lines):\n",
    "    cleaned = list()\n",
    "    # prepare regex for char filtering\n",
    "    re_print = re.compile('[^%s]' % re.escape(string.printable))\n",
    "    # prepare translation table for removing punctuation\n",
    "    table = str.maketrans('', '', string.punctuation)\n",
    "    for pair in lines:\n",
    "        clean_pair = list()\n",
    "        for line in pair:\n",
    "            # normalize unicode characters\n",
    "            line = normalize('NFD', line).encode('ascii', 'ignore')\n",
    "            line = line.decode('UTF-8')\n",
    "            # tokenize on white space\n",
    "            line = line.split()\n",
    "            # convert to lowercase\n",
    "            line = [word.lower() for word in line]\n",
    "            # remove punctuation from each token\n",
    "            line = [word.translate(table) for word in line]\n",
    "            # remove non-printable chars form each token\n",
    "            line = [re_print.sub('', w) for w in line]\n",
    "            # remove tokens with numbers in them\n",
    "            line = [word for word in line if word.isalpha()]\n",
    "            # store as string\n",
    "            clean_pair.append(' '.join(line))\n",
    "        cleaned.append(clean_pair)\n",
    "    return numpy.array(cleaned)"
   ]
  },
  {
   "cell_type": "code",
   "execution_count": 2,
   "metadata": {},
   "outputs": [
    {
     "name": "stderr",
     "output_type": "stream",
     "text": [
      "/anaconda3/lib/python3.6/site-packages/h5py/__init__.py:36: FutureWarning: Conversion of the second argument of issubdtype from `float` to `np.floating` is deprecated. In future, it will be treated as `np.float64 == np.dtype(float).type`.\n",
      "  from ._conv import register_converters as _register_converters\n",
      "Using TensorFlow backend.\n"
     ]
    }
   ],
   "source": [
    "from keras.preprocessing.text import Tokenizer\n",
    "from keras.preprocessing.sequence import pad_sequences\n",
    "\n",
    "# encode and pad sequences\n",
    "def text2sequences(max_len, lines):\n",
    "    tokenizer = Tokenizer(char_level=True, filters='')\n",
    "    tokenizer.fit_on_texts(lines)\n",
    "    seqs = tokenizer.texts_to_sequences(lines)\n",
    "    seqs_pad = pad_sequences(seqs, maxlen=max_len, padding='post')\n",
    "    return seqs_pad, tokenizer.word_index"
   ]
  },
  {
   "cell_type": "code",
   "execution_count": 3,
   "metadata": {},
   "outputs": [],
   "source": [
    "from keras.utils import to_categorical\n",
    "\n",
    "# one hot encode target sequence\n",
    "def onehot_encode(sequences, max_len, vocab_size):\n",
    "    n = len(sequences)\n",
    "    data = numpy.zeros((n, max_len, vocab_size))\n",
    "    for i in range(n):\n",
    "        data[i, :, :] = to_categorical(sequences[i], num_classes=vocab_size)\n",
    "    return data"
   ]
  },
  {
   "cell_type": "markdown",
   "metadata": {},
   "source": [
    "#### Fill the following blanks:"
   ]
  },
  {
   "cell_type": "code",
   "execution_count": 28,
   "metadata": {},
   "outputs": [],
   "source": [
    "# e.g., filename = 'Data/deu.txt'\n",
    "filename = 'deu.txt'\n",
    "\n",
    "# e.g., n_train = 20000\n",
    "n_train = 20000"
   ]
  },
  {
   "cell_type": "code",
   "execution_count": 29,
   "metadata": {},
   "outputs": [],
   "source": [
    "# load dataset\n",
    "doc = load_doc(filename)\n",
    "\n",
    "# split into Language1-Language2 pairs\n",
    "pairs = to_pairs(doc)\n",
    "\n",
    "# clean sentences\n",
    "clean_pairs = clean_data(pairs)[0:n_train, :]"
   ]
  },
  {
   "cell_type": "code",
   "execution_count": 30,
   "metadata": {},
   "outputs": [
    {
     "name": "stdout",
     "output_type": "stream",
     "text": [
      "[is it broken] => [ist es kaputt]\n",
      "[is it for me] => [ist das fur mich]\n",
      "[is that a no] => [ist das ein nein]\n",
      "[is that love] => [ist das liebe]\n",
      "[is that mine] => [ist das meins]\n",
      "[is that snow] => [ist das schnee]\n",
      "[is that true] => [ist das wahr]\n",
      "[is this love] => [ist das liebe]\n",
      "[is this love] => [ist das hier liebe]\n",
      "[is this mine] => [ist das meines]\n"
     ]
    }
   ],
   "source": [
    "for i in range(3000, 3010):\n",
    "    print('[' + clean_pairs[i, 0] + '] => [' + clean_pairs[i, 1] + ']')"
   ]
  },
  {
   "cell_type": "code",
   "execution_count": 31,
   "metadata": {},
   "outputs": [
    {
     "name": "stdout",
     "output_type": "stream",
     "text": [
      "Length of input_texts:  (20000,)\n",
      "Length of target_texts: (20000,)\n"
     ]
    }
   ],
   "source": [
    "input_texts = clean_pairs[:, 0]\n",
    "target_texts = ['\\t' + text + '\\n' for text in clean_pairs[:, 1]]\n",
    "\n",
    "print('Length of input_texts:  ' + str(input_texts.shape))\n",
    "print('Length of target_texts: ' + str(input_texts.shape))"
   ]
  },
  {
   "cell_type": "code",
   "execution_count": 32,
   "metadata": {},
   "outputs": [
    {
     "name": "stdout",
     "output_type": "stream",
     "text": [
      "max length of input  sentences: 17\n",
      "max length of target sentences: 73\n"
     ]
    }
   ],
   "source": [
    "max_encoder_seq_length = max(len(line) for line in input_texts)\n",
    "max_decoder_seq_length = max(len(line) for line in target_texts)\n",
    "\n",
    "print('max length of input  sentences: %d' % (max_encoder_seq_length))\n",
    "print('max length of target sentences: %d' % (max_decoder_seq_length))"
   ]
  },
  {
   "cell_type": "markdown",
   "metadata": {},
   "source": [
    "## 2. Text processing\n",
    "\n",
    "### 2.1. Convert texts to sequences\n",
    "\n",
    "- Input: A list of $n$ sentences (with max length $t$).\n",
    "- It is represented by a $n\\times t$ matrix after the tokenization and zero-padding."
   ]
  },
  {
   "cell_type": "code",
   "execution_count": 33,
   "metadata": {},
   "outputs": [
    {
     "name": "stdout",
     "output_type": "stream",
     "text": [
      "shape of encoder_input_seq: (20000, 17)\n",
      "shape of input_token_index: 27\n",
      "shape of decoder_input_seq: (20000, 73)\n",
      "shape of target_token_index: 29\n"
     ]
    }
   ],
   "source": [
    "from keras.preprocessing.text import Tokenizer\n",
    "from keras.preprocessing.sequence import pad_sequences\n",
    "\n",
    "# encode and pad sequences\n",
    "def text2sequences(max_len, lines):\n",
    "    tokenizer = Tokenizer(char_level=True, filters='')\n",
    "    tokenizer.fit_on_texts(lines)\n",
    "    seqs = tokenizer.texts_to_sequences(lines)\n",
    "    seqs_pad = pad_sequences(seqs, maxlen=max_len, padding='post')\n",
    "    return seqs_pad, tokenizer.word_index\n",
    "\n",
    "encoder_input_seq, input_token_index = text2sequences(max_encoder_seq_length, input_texts)\n",
    "decoder_input_seq, target_token_index = text2sequences(max_decoder_seq_length, target_texts)\n",
    "\n",
    "print('shape of encoder_input_seq: ' + str(encoder_input_seq.shape))\n",
    "print('shape of input_token_index: ' + str(len(input_token_index)))\n",
    "print('shape of decoder_input_seq: ' + str(decoder_input_seq.shape))\n",
    "print('shape of target_token_index: ' + str(len(target_token_index)))"
   ]
  },
  {
   "cell_type": "code",
   "execution_count": 34,
   "metadata": {},
   "outputs": [
    {
     "name": "stdout",
     "output_type": "stream",
     "text": [
      "num_encoder_tokens: 28\n",
      "num_decoder_tokens: 30\n"
     ]
    }
   ],
   "source": [
    "num_encoder_tokens = len(input_token_index) + 1\n",
    "num_decoder_tokens = len(target_token_index) + 1\n",
    "\n",
    "print('num_encoder_tokens: ' + str(num_encoder_tokens))\n",
    "print('num_decoder_tokens: ' + str(num_decoder_tokens))"
   ]
  },
  {
   "cell_type": "markdown",
   "metadata": {},
   "source": [
    "**Remark:** To this end, the input language and target language texts are converted to 2 matrices. \n",
    "\n",
    "- Their number of rows are both n_train.\n",
    "- Their number of columns are respective max_encoder_seq_length and max_decoder_seq_length."
   ]
  },
  {
   "cell_type": "markdown",
   "metadata": {},
   "source": [
    "The followings print a sentence and its representation as a sequence."
   ]
  },
  {
   "cell_type": "code",
   "execution_count": 35,
   "metadata": {},
   "outputs": [
    {
     "data": {
      "text/plain": [
       "'\\tmach dich fort\\n'"
      ]
     },
     "execution_count": 35,
     "metadata": {},
     "output_type": "execute_result"
    }
   ],
   "source": [
    "target_texts[100]"
   ]
  },
  {
   "cell_type": "code",
   "execution_count": 36,
   "metadata": {},
   "outputs": [
    {
     "data": {
      "text/plain": [
       "array([ 8, 13, 10, 12,  7,  1, 16,  3, 12,  7,  1, 21, 15, 11,  4,  9,  0,\n",
       "        0,  0,  0,  0,  0,  0,  0,  0,  0,  0,  0,  0,  0,  0,  0,  0,  0,\n",
       "        0,  0,  0,  0,  0,  0,  0,  0,  0,  0,  0,  0,  0,  0,  0,  0,  0,\n",
       "        0,  0,  0,  0,  0,  0,  0,  0,  0,  0,  0,  0,  0,  0,  0,  0,  0,\n",
       "        0,  0,  0,  0,  0], dtype=int32)"
      ]
     },
     "execution_count": 36,
     "metadata": {},
     "output_type": "execute_result"
    }
   ],
   "source": [
    "decoder_input_seq[100, :]"
   ]
  },
  {
   "cell_type": "markdown",
   "metadata": {},
   "source": [
    "## 2.2. One-hot encode\n",
    "\n",
    "- Input: A list of $n$ sentences (with max length $t$).\n",
    "- It is represented by a $n\\times t$ matrix after the tokenization and zero-padding.\n",
    "- It is represented by a $n\\times t \\times v$ tensor ($t$ is the number of unique chars) after the one-hot encoding."
   ]
  },
  {
   "cell_type": "code",
   "execution_count": 37,
   "metadata": {},
   "outputs": [
    {
     "name": "stdout",
     "output_type": "stream",
     "text": [
      "(20000, 17, 28)\n",
      "(20000, 73, 30)\n"
     ]
    }
   ],
   "source": [
    "from keras.utils import to_categorical\n",
    "\n",
    "# one hot encode target sequence\n",
    "def onehot_encode(sequences, max_len, vocab_size):\n",
    "    n = len(sequences)\n",
    "    data = numpy.zeros((n, max_len, vocab_size))\n",
    "    for i in range(n):\n",
    "        data[i, :, :] = to_categorical(sequences[i], num_classes=vocab_size)\n",
    "    return data\n",
    "\n",
    "encoder_input_data = onehot_encode(encoder_input_seq, max_encoder_seq_length, num_encoder_tokens)\n",
    "decoder_input_data = onehot_encode(decoder_input_seq, max_decoder_seq_length, num_decoder_tokens)\n",
    "\n",
    "decoder_target_seq = numpy.zeros(decoder_input_seq.shape)\n",
    "decoder_target_seq[:, 0:-1] = decoder_input_seq[:, 1:]\n",
    "decoder_target_data = onehot_encode(decoder_target_seq, max_decoder_seq_length, num_decoder_tokens)\n",
    "\n",
    "print(encoder_input_data.shape)\n",
    "print(decoder_input_data.shape)"
   ]
  },
  {
   "cell_type": "markdown",
   "metadata": {},
   "source": [
    "## 3. Build the networks (for training)\n",
    "\n",
    "- Build encoder, decoder, and connect the two modules to get \"model\". \n",
    "\n",
    "- Fit the model on the bilingual data to train the parameters in the encoder and decoder."
   ]
  },
  {
   "cell_type": "markdown",
   "metadata": {},
   "source": [
    "### 3.1. Encoder network\n",
    "\n",
    "- Input:  one-hot encode of the input language\n",
    "\n",
    "- Return: \n",
    "\n",
    "    -- output (all the hidden states   $h_1, \\cdots , h_t$) are always discarded\n",
    "    \n",
    "    -- the final hidden state  $h_t$\n",
    "    \n",
    "    -- the final conveyor belt $c_t$"
   ]
  },
  {
   "cell_type": "code",
   "execution_count": 38,
   "metadata": {},
   "outputs": [],
   "source": [
    "from keras.layers import Input, LSTM\n",
    "from keras.models import Model\n",
    "\n",
    "latent_dim = 256\n",
    "\n",
    "# inputs of the encoder network\n",
    "encoder_inputs = Input(shape=(None, num_encoder_tokens), name='encoder_inputs')\n",
    "\n",
    "# set the LSTM layer\n",
    "encoder_lstm = LSTM(latent_dim, return_state=True, dropout=0.5, name='encoder_lstm')_, state_h, state_c = encoder_lstm(encoder_inputs)\n",
    "\n",
    "# build the encoder network model\n",
    "encoder_model = Model(inputs=encoder_inputs, outputs=[state_h, state_c], name='encoder')"
   ]
  },
  {
   "cell_type": "markdown",
   "metadata": {},
   "source": [
    "Print a summary and save the encoder network structure to \"./encoder.pdf\""
   ]
  },
  {
   "cell_type": "code",
   "execution_count": 39,
   "metadata": {},
   "outputs": [
    {
     "name": "stdout",
     "output_type": "stream",
     "text": [
      "_________________________________________________________________\n",
      "Layer (type)                 Output Shape              Param #   \n",
      "=================================================================\n",
      "encoder_inputs (InputLayer)  (None, None, 28)          0         \n",
      "_________________________________________________________________\n",
      "encoder_lstm (LSTM)          [(None, 256), (None, 256) 291840    \n",
      "=================================================================\n",
      "Total params: 291,840\n",
      "Trainable params: 291,840\n",
      "Non-trainable params: 0\n",
      "_________________________________________________________________\n"
     ]
    }
   ],
   "source": [
    "from IPython.display import SVG\n",
    "from keras.utils.vis_utils import model_to_dot, plot_model\n",
    "\n",
    "SVG(model_to_dot(encoder_model, show_shapes=False).create(prog='dot', format='svg'))\n",
    "\n",
    "plot_model(\n",
    "    model=encoder_model, show_shapes=False,\n",
    "    to_file='encoder.pdf'\n",
    ")\n",
    "\n",
    "encoder_model.summary()"
   ]
  },
  {
   "cell_type": "markdown",
   "metadata": {},
   "source": [
    "### 3.2. Decoder network\n",
    "\n",
    "- Inputs:  \n",
    "\n",
    "    -- one-hot encode of the target language\n",
    "    \n",
    "    -- The initial hidden state $h_t$ \n",
    "    \n",
    "    -- The initial conveyor belt $c_t$ \n",
    "\n",
    "- Return: \n",
    "\n",
    "    -- output (all the hidden states) $h_1, \\cdots , h_t$\n",
    "\n",
    "    -- the final hidden state  $h_t$ (discarded in the training and used in the prediction)\n",
    "    \n",
    "    -- the final conveyor belt $c_t$ (discarded in the training and used in the prediction)"
   ]
  },
  {
   "cell_type": "code",
   "execution_count": 40,
   "metadata": {},
   "outputs": [],
   "source": [
    "from keras.layers import Input, LSTM, Dense\n",
    "from keras.models import Model\n",
    "\n",
    "# inputs of the decoder network\n",
    "decoder_input_h = Input(shape=(latent_dim,), name='decoder_input_h')\n",
    "decoder_input_c = Input(shape=(latent_dim,), name='decoder_input_c')\n",
    "decoder_input_x = Input(shape=(None, num_decoder_tokens), name='decoder_input_x')\n",
    "\n",
    "# set the LSTM layer\n",
    "decoder_lstm = LSTM(latent_dim, return_sequences=True, return_state=True, dropout=0.5, name='decoder_lstm')\n",
    "decoder_lstm_outputs, state_h, state_c = decoder_lstm(decoder_input_x, initial_state=[decoder_input_h, decoder_input_c])\n",
    "\n",
    "# set the dense layer\n",
    "decoder_dense = Dense(num_decoder_tokens, activation='softmax', name='decoder_dense')\n",
    "decoder_outputs = decoder_dense(decoder_lstm_outputs)\n",
    "\n",
    "# build the decoder network model\n",
    "decoder_model = Model(inputs=[decoder_input_x, decoder_input_h, decoder_input_c], outputs=[decoder_outputs, state_h, state_c], name='decoder')"
   ]
  },
  {
   "cell_type": "markdown",
   "metadata": {},
   "source": [
    "Print a summary and save the encoder network structure to \"./decoder.pdf\""
   ]
  },
  {
   "cell_type": "code",
   "execution_count": 41,
   "metadata": {},
   "outputs": [
    {
     "name": "stdout",
     "output_type": "stream",
     "text": [
      "__________________________________________________________________________________________________\n",
      "Layer (type)                    Output Shape         Param #     Connected to                     \n",
      "==================================================================================================\n",
      "decoder_input_x (InputLayer)    (None, None, 30)     0                                            \n",
      "__________________________________________________________________________________________________\n",
      "decoder_input_h (InputLayer)    (None, 256)          0                                            \n",
      "__________________________________________________________________________________________________\n",
      "decoder_input_c (InputLayer)    (None, 256)          0                                            \n",
      "__________________________________________________________________________________________________\n",
      "decoder_lstm (LSTM)             [(None, None, 256),  293888      decoder_input_x[0][0]            \n",
      "                                                                 decoder_input_h[0][0]            \n",
      "                                                                 decoder_input_c[0][0]            \n",
      "__________________________________________________________________________________________________\n",
      "decoder_dense (Dense)           (None, None, 30)     7710        decoder_lstm[0][0]               \n",
      "==================================================================================================\n",
      "Total params: 301,598\n",
      "Trainable params: 301,598\n",
      "Non-trainable params: 0\n",
      "__________________________________________________________________________________________________\n"
     ]
    }
   ],
   "source": [
    "from IPython.display import SVG\n",
    "from keras.utils.vis_utils import model_to_dot, plot_model\n",
    "\n",
    "SVG(model_to_dot(decoder_model, show_shapes=False).create(prog='dot', format='svg'))\n",
    "\n",
    "plot_model(\n",
    "    model=decoder_model, show_shapes=False,\n",
    "    to_file='decoder.pdf'\n",
    ")\n",
    "\n",
    "decoder_model.summary()"
   ]
  },
  {
   "cell_type": "markdown",
   "metadata": {},
   "source": [
    "### 3.3. Connect the encoder and decoder"
   ]
  },
  {
   "cell_type": "code",
   "execution_count": 42,
   "metadata": {},
   "outputs": [],
   "source": [
    "# input layers\n",
    "encoder_input_x = Input(shape=(None, num_encoder_tokens), name='encoder_input_x')\n",
    "decoder_input_x = Input(shape=(None, num_decoder_tokens), name='decoder_input_x')\n",
    "\n",
    "# connect encoder to decoder\n",
    "encoder_final_states = encoder_model([encoder_input_x])\n",
    "decoder_lstm_output, _, _ = decoder_lstm(decoder_input_x, initial_state=encoder_final_states)\n",
    "decoder_pred = decoder_dense(decoder_lstm_output)\n",
    "\n",
    "model = Model(inputs=[encoder_input_x, decoder_input_x], outputs=decoder_pred, name='model_training')"
   ]
  },
  {
   "cell_type": "code",
   "execution_count": 43,
   "metadata": {},
   "outputs": [
    {
     "name": "stdout",
     "output_type": "stream",
     "text": [
      "Tensor(\"decoder_lstm_2/while/Exit_2:0\", shape=(?, 256), dtype=float32)\n",
      "Tensor(\"decoder_input_h_1:0\", shape=(?, 256), dtype=float32)\n"
     ]
    }
   ],
   "source": [
    "print(state_h)\n",
    "print(decoder_input_h)"
   ]
  },
  {
   "cell_type": "code",
   "execution_count": 44,
   "metadata": {},
   "outputs": [
    {
     "name": "stdout",
     "output_type": "stream",
     "text": [
      "__________________________________________________________________________________________________\n",
      "Layer (type)                    Output Shape         Param #     Connected to                     \n",
      "==================================================================================================\n",
      "encoder_input_x (InputLayer)    (None, None, 28)     0                                            \n",
      "__________________________________________________________________________________________________\n",
      "decoder_input_x (InputLayer)    (None, None, 30)     0                                            \n",
      "__________________________________________________________________________________________________\n",
      "encoder (Model)                 [(None, 256), (None, 291840      encoder_input_x[0][0]            \n",
      "__________________________________________________________________________________________________\n",
      "decoder_lstm (LSTM)             [(None, None, 256),  293888      decoder_input_x[0][0]            \n",
      "                                                                 encoder[1][0]                    \n",
      "                                                                 encoder[1][1]                    \n",
      "__________________________________________________________________________________________________\n",
      "decoder_dense (Dense)           (None, None, 30)     7710        decoder_lstm[1][0]               \n",
      "==================================================================================================\n",
      "Total params: 593,438\n",
      "Trainable params: 593,438\n",
      "Non-trainable params: 0\n",
      "__________________________________________________________________________________________________\n"
     ]
    }
   ],
   "source": [
    "from IPython.display import SVG\n",
    "from keras.utils.vis_utils import model_to_dot, plot_model\n",
    "\n",
    "SVG(model_to_dot(model, show_shapes=False).create(prog='dot', format='svg'))\n",
    "\n",
    "plot_model(\n",
    "    model=model, show_shapes=False,\n",
    "    to_file='model_training.pdf'\n",
    ")\n",
    "\n",
    "model.summary()"
   ]
  },
  {
   "cell_type": "markdown",
   "metadata": {},
   "source": [
    "### 3.5. Fit the model on the bilingual dataset\n",
    "\n",
    "- encoder_input_data: one-hot encode of the input language\n",
    "\n",
    "- decoder_input_data: one-hot encode of the input language\n",
    "\n",
    "- decoder_target_data: labels (left shift of decoder_input_data)\n",
    "\n",
    "- tune the hyper-parameters\n",
    "\n",
    "- stop when the validation loss stop decreasing."
   ]
  },
  {
   "cell_type": "code",
   "execution_count": 45,
   "metadata": {},
   "outputs": [
    {
     "name": "stdout",
     "output_type": "stream",
     "text": [
      "shape of encoder_input_data(20000, 17, 28)\n",
      "shape of decoder_input_data(20000, 73, 30)\n",
      "shape of decoder_target_data(20000, 73, 30)\n"
     ]
    }
   ],
   "source": [
    "print('shape of encoder_input_data' + str(encoder_input_data.shape))\n",
    "print('shape of decoder_input_data' + str(decoder_input_data.shape))\n",
    "print('shape of decoder_target_data' + str(decoder_target_data.shape))"
   ]
  },
  {
   "cell_type": "code",
   "execution_count": 20,
   "metadata": {},
   "outputs": [
    {
     "name": "stdout",
     "output_type": "stream",
     "text": [
      "Train on 16000 samples, validate on 4000 samples\n",
      "Epoch 1/50\n",
      "16000/16000 [==============================] - 50s 3ms/step - loss: 0.8515 - val_loss: 0.7213\n",
      "Epoch 2/50\n",
      "16000/16000 [==============================] - 49s 3ms/step - loss: 0.6080 - val_loss: 0.5911\n",
      "Epoch 3/50\n",
      "16000/16000 [==============================] - 49s 3ms/step - loss: 0.5356 - val_loss: 0.5439\n",
      "Epoch 4/50\n",
      "16000/16000 [==============================] - 51s 3ms/step - loss: 0.4936 - val_loss: 0.5130\n",
      "Epoch 5/50\n",
      "16000/16000 [==============================] - 50s 3ms/step - loss: 0.4650 - val_loss: 0.4882\n",
      "Epoch 6/50\n",
      "16000/16000 [==============================] - 48s 3ms/step - loss: 0.4436 - val_loss: 0.4702\n",
      "Epoch 7/50\n",
      "16000/16000 [==============================] - 50s 3ms/step - loss: 0.4262 - val_loss: 0.4541\n",
      "Epoch 8/50\n",
      "16000/16000 [==============================] - 48s 3ms/step - loss: 0.4127 - val_loss: 0.4408\n",
      "Epoch 9/50\n",
      "16000/16000 [==============================] - 47s 3ms/step - loss: 0.3998 - val_loss: 0.4310\n",
      "Epoch 10/50\n",
      "16000/16000 [==============================] - 47s 3ms/step - loss: 0.3883 - val_loss: 0.4210\n",
      "Epoch 11/50\n",
      "16000/16000 [==============================] - 52s 3ms/step - loss: 0.3793 - val_loss: 0.4119\n",
      "Epoch 12/50\n",
      "16000/16000 [==============================] - 43s 3ms/step - loss: 0.3714 - val_loss: 0.4031\n",
      "Epoch 13/50\n",
      "16000/16000 [==============================] - 44s 3ms/step - loss: 0.3625 - val_loss: 0.3954\n",
      "Epoch 14/50\n",
      "16000/16000 [==============================] - 45s 3ms/step - loss: 0.3556 - val_loss: 0.3902\n",
      "Epoch 15/50\n",
      "16000/16000 [==============================] - 46s 3ms/step - loss: 0.3493 - val_loss: 0.3842\n",
      "Epoch 16/50\n",
      "16000/16000 [==============================] - 42s 3ms/step - loss: 0.3426 - val_loss: 0.3773\n",
      "Epoch 17/50\n",
      "16000/16000 [==============================] - 42s 3ms/step - loss: 0.3366 - val_loss: 0.3725\n",
      "Epoch 18/50\n",
      "16000/16000 [==============================] - 42s 3ms/step - loss: 0.3313 - val_loss: 0.3673\n",
      "Epoch 19/50\n",
      "16000/16000 [==============================] - 42s 3ms/step - loss: 0.3263 - val_loss: 0.3615\n",
      "Epoch 20/50\n",
      "16000/16000 [==============================] - 42s 3ms/step - loss: 0.3213 - val_loss: 0.3601\n",
      "Epoch 21/50\n",
      "16000/16000 [==============================] - 43s 3ms/step - loss: 0.3163 - val_loss: 0.3582\n",
      "Epoch 22/50\n",
      "16000/16000 [==============================] - 42s 3ms/step - loss: 0.3131 - val_loss: 0.3505\n",
      "Epoch 23/50\n",
      "16000/16000 [==============================] - 42s 3ms/step - loss: 0.3075 - val_loss: 0.3489\n",
      "Epoch 24/50\n",
      "16000/16000 [==============================] - 42s 3ms/step - loss: 0.3041 - val_loss: 0.3442\n",
      "Epoch 25/50\n",
      "16000/16000 [==============================] - 42s 3ms/step - loss: 0.3008 - val_loss: 0.3423\n",
      "Epoch 26/50\n",
      "16000/16000 [==============================] - 45s 3ms/step - loss: 0.2975 - val_loss: 0.3392\n",
      "Epoch 27/50\n",
      "16000/16000 [==============================] - 42s 3ms/step - loss: 0.2943 - val_loss: 0.3367\n",
      "Epoch 28/50\n",
      "16000/16000 [==============================] - 42s 3ms/step - loss: 0.2904 - val_loss: 0.3347\n",
      "Epoch 29/50\n",
      "16000/16000 [==============================] - 42s 3ms/step - loss: 0.2867 - val_loss: 0.3319\n",
      "Epoch 30/50\n",
      "16000/16000 [==============================] - 45s 3ms/step - loss: 0.2842 - val_loss: 0.3313\n",
      "Epoch 31/50\n",
      "16000/16000 [==============================] - 46s 3ms/step - loss: 0.2832 - val_loss: 0.3312\n",
      "Epoch 32/50\n",
      "16000/16000 [==============================] - 47s 3ms/step - loss: 0.2798 - val_loss: 0.3284\n",
      "Epoch 33/50\n",
      "16000/16000 [==============================] - 47s 3ms/step - loss: 0.2762 - val_loss: 0.3272\n",
      "Epoch 34/50\n",
      "16000/16000 [==============================] - 47s 3ms/step - loss: 0.2747 - val_loss: 0.3221\n",
      "Epoch 35/50\n",
      "16000/16000 [==============================] - 45s 3ms/step - loss: 0.2715 - val_loss: 0.3231\n",
      "Epoch 36/50\n",
      "16000/16000 [==============================] - 47s 3ms/step - loss: 0.2688 - val_loss: 0.3211\n",
      "Epoch 37/50\n",
      "16000/16000 [==============================] - 45s 3ms/step - loss: 0.2668 - val_loss: 0.3210\n",
      "Epoch 38/50\n",
      "16000/16000 [==============================] - 43s 3ms/step - loss: 0.2640 - val_loss: 0.3180\n",
      "Epoch 39/50\n",
      "16000/16000 [==============================] - 41s 3ms/step - loss: 0.2624 - val_loss: 0.3207\n",
      "Epoch 40/50\n",
      "16000/16000 [==============================] - 42s 3ms/step - loss: 0.2601 - val_loss: 0.3181\n",
      "Epoch 41/50\n",
      "16000/16000 [==============================] - 43s 3ms/step - loss: 0.2587 - val_loss: 0.3142\n",
      "Epoch 42/50\n",
      "16000/16000 [==============================] - 42s 3ms/step - loss: 0.2561 - val_loss: 0.3135\n",
      "Epoch 43/50\n",
      "16000/16000 [==============================] - 43s 3ms/step - loss: 0.2545 - val_loss: 0.3146\n",
      "Epoch 44/50\n",
      "16000/16000 [==============================] - 43s 3ms/step - loss: 0.2527 - val_loss: 0.3122\n",
      "Epoch 45/50\n",
      "16000/16000 [==============================] - 43s 3ms/step - loss: 0.2517 - val_loss: 0.3102\n",
      "Epoch 46/50\n",
      "16000/16000 [==============================] - 42s 3ms/step - loss: 0.2487 - val_loss: 0.3115\n",
      "Epoch 47/50\n",
      "16000/16000 [==============================] - 41s 3ms/step - loss: 0.2474 - val_loss: 0.3117\n",
      "Epoch 48/50\n",
      "16000/16000 [==============================] - 41s 3ms/step - loss: 0.2454 - val_loss: 0.3114\n",
      "Epoch 49/50\n",
      "16000/16000 [==============================] - 41s 3ms/step - loss: 0.2436 - val_loss: 0.3082\n",
      "Epoch 50/50\n",
      "16000/16000 [==============================] - 41s 3ms/step - loss: 0.2424 - val_loss: 0.3093\n"
     ]
    },
    {
     "name": "stderr",
     "output_type": "stream",
     "text": [
      "/anaconda3/lib/python3.6/site-packages/keras/engine/network.py:877: UserWarning: Layer decoder_lstm was passed non-serializable keyword arguments: {'initial_state': [<tf.Tensor 'encoder/encoder_lstm/while/Exit_2:0' shape=(?, 256) dtype=float32>, <tf.Tensor 'encoder/encoder_lstm/while/Exit_3:0' shape=(?, 256) dtype=float32>]}. They will not be included in the serialized model (and thus will be missing at deserialization time).\n",
      "  '. They will not be included '\n"
     ]
    }
   ],
   "source": [
    "model.compile(optimizer='rmsprop', loss='categorical_crossentropy')\n",
    "\n",
    "model.fit([encoder_input_data, decoder_input_data],  # training data\n",
    "          decoder_target_data,                       # labels (left shift of the target sequences)\n",
    "          batch_size=64, epochs=50, validation_split=0.2)\n",
    "\n",
    "model.save('seq2seq.h5')"
   ]
  },
  {
   "cell_type": "markdown",
   "metadata": {},
   "source": [
    "## 4. Make predictions\n",
    "\n",
    "\n",
    "### 4.1. Translate English to XXX\n",
    "\n",
    "1. Encoder read a sentence (source language) and output its final states, $h_t$ and $c_t$.\n",
    "2. Take the [star] sign \"\\t\" and the final state $h_t$ and $c_t$ as input and run the decoder.\n",
    "3. Get the new states and predicted probability distribution.\n",
    "4. sample a char from the predicted probability distribution\n",
    "5. take the sampled char and the new states as input and repeat the process (stop if reach the [stop] sign \"\\n\")."
   ]
  },
  {
   "cell_type": "code",
   "execution_count": 46,
   "metadata": {},
   "outputs": [],
   "source": [
    "# Reverse-lookup token index to decode sequences back to something readable.\n",
    "reverse_input_char_index = dict((i, char) for char, i in input_token_index.items())\n",
    "reverse_target_char_index = dict((i, char) for char, i in target_token_index.items())"
   ]
  },
  {
   "cell_type": "code",
   "execution_count": 47,
   "metadata": {},
   "outputs": [],
   "source": [
    "def decode_sequence(input_seq):\n",
    "    states_value = encoder_model.predict(input_seq)\n",
    "\n",
    "    target_seq = numpy.zeros((1, 1, num_decoder_tokens))\n",
    "    target_seq[0, 0, target_token_index['\\t']] = 1.\n",
    "\n",
    "    stop_condition = False\n",
    "    decoded_sentence = ''\n",
    "    while not stop_condition:\n",
    "        output_tokens, h, c = decoder_model.predict([target_seq] + states_value)\n",
    "\n",
    "        # this line of code is greedy selection\n",
    "        # try to use multinomial sampling instead (with temperature)\n",
    "        sampled_token_index = numpy.argmax(output_tokens[0, -1, :])\n",
    "        \n",
    "        sampled_char = reverse_target_char_index[sampled_token_index]\n",
    "        decoded_sentence += sampled_char\n",
    "\n",
    "        if (sampled_char == '\\n' or\n",
    "           len(decoded_sentence) > max_decoder_seq_length):\n",
    "            stop_condition = True\n",
    "\n",
    "        target_seq = numpy.zeros((1, 1, num_decoder_tokens))\n",
    "        target_seq[0, 0, sampled_token_index] = 1.\n",
    "\n",
    "        states_value = [h, c]\n",
    "\n",
    "    return decoded_sentence\n"
   ]
  },
  {
   "cell_type": "code",
   "execution_count": 23,
   "metadata": {},
   "outputs": [
    {
     "name": "stdout",
     "output_type": "stream",
     "text": [
      "-\n",
      "English:        they burned\n",
      "German (true):  sie sind verbrannt\n",
      "German (pred):  sie sind angerufen\n",
      "-\n",
      "English:        they called\n",
      "German (true):  sie riefen an\n",
      "German (pred):  sie sind angerufen\n",
      "-\n",
      "English:        they called\n",
      "German (true):  sie haben angerufen\n",
      "German (pred):  sie sind angerufen\n",
      "-\n",
      "English:        they called\n",
      "German (true):  sie kamen vorbei\n",
      "German (pred):  sie sind angerufen\n",
      "-\n",
      "English:        they called\n",
      "German (true):  sie sind vorbeigekommen\n",
      "German (pred):  sie sind angerufen\n",
      "-\n",
      "English:        they danced\n",
      "German (true):  sie tanzten\n",
      "German (pred):  sie sind angerufen\n",
      "-\n",
      "English:        they hugged\n",
      "German (true):  sie umarmten sich\n",
      "German (pred):  sie haben geschlafen\n",
      "-\n",
      "English:        they hugged\n",
      "German (true):  sie druckten sich\n",
      "German (pred):  sie haben geschlafen\n",
      "-\n",
      "English:        they kissed\n",
      "German (true):  sie kussten sich\n",
      "German (pred):  sie sind angerufen\n",
      "-\n",
      "English:        they may go\n",
      "German (true):  sie konnen gehen\n",
      "German (pred):  sie sagen geld\n",
      "-\n",
      "English:        they may go\n",
      "German (true):  die durfen gehen\n",
      "German (pred):  sie sagen geld\n",
      "-\n",
      "English:        they saw me\n",
      "German (true):  sie sahen mich\n",
      "German (pred):  sie sind gelieben\n",
      "-\n",
      "English:        they saw me\n",
      "German (true):  die haben mich gesehen\n",
      "German (pred):  sie sind gelieben\n",
      "-\n",
      "English:        they smiled\n",
      "German (true):  sie lachelten\n",
      "German (pred):  sie schon gerade aus\n",
      "-\n",
      "English:        they walked\n",
      "German (true):  sie gingen zu fu\n",
      "German (pred):  sie sind angerufen\n",
      "-\n",
      "English:        theyre new\n",
      "German (true):  sie sind neu\n",
      "German (pred):  sie sind gescheit\n",
      "-\n",
      "English:        think again\n",
      "German (true):  denk noch mal nach\n",
      "German (pred):  danke auf den rach\n",
      "-\n",
      "English:        this is tom\n",
      "German (true):  dies ist tom\n",
      "German (pred):  das ist tom\n",
      "-\n",
      "English:        this is tom\n",
      "German (true):  das ist tom\n",
      "German (pred):  das ist tom\n",
      "-\n",
      "English:        this is tom\n",
      "German (true):  hier spricht tom\n",
      "German (pred):  das ist tom\n"
     ]
    }
   ],
   "source": [
    "for seq_index in range(2100, 2120):\n",
    "    # Take one sequence (part of the training set)\n",
    "    # for trying out decoding.\n",
    "    input_seq = encoder_input_data[seq_index: seq_index + 1]\n",
    "    decoded_sentence = decode_sequence(input_seq)\n",
    "    print('-')\n",
    "    print('English:       ', input_texts[seq_index])\n",
    "    print('German (true): ', target_texts[seq_index][1:-1])\n",
    "    print('German (pred): ', decoded_sentence[0:-1])\n"
   ]
  },
  {
   "cell_type": "markdown",
   "metadata": {},
   "source": [
    "### 4.2. Translate an English sentence to the target language\n",
    "\n",
    "1. Tokenization\n",
    "2. One-hot encode\n",
    "3. Translate"
   ]
  },
  {
   "cell_type": "code",
   "execution_count": 4,
   "metadata": {},
   "outputs": [
    {
     "name": "stdout",
     "output_type": "stream",
     "text": [
      "Length of input_texts:  (20000,)\n",
      "Length of target_texts: (20000,)\n",
      "max length of input  sentences: 19\n",
      "max length of target sentences: 68\n",
      "shape of encoder_input_seq: (20000, 19)\n",
      "shape of input_token_index: 27\n",
      "shape of decoder_input_seq: (20000, 68)\n",
      "shape of target_token_index: 29\n",
      "num_encoder_tokens: 28\n",
      "num_decoder_tokens: 30\n",
      "(20000, 19, 28)\n",
      "(20000, 68, 30)\n"
     ]
    }
   ],
   "source": [
    "input_sentence = 'why is that'\n",
    "\n",
    "#input_sequence = <do tokenization...>\n",
    "filename = 'spa.txt'\n",
    "\n",
    "# e.g., n_train = 20000\n",
    "n_train = 20000\n",
    "doc = load_doc(filename)\n",
    "\n",
    "# split into Language1-Language2 pairs\n",
    "pairs = to_pairs(doc)\n",
    "\n",
    "# clean sentences\n",
    "clean_pairs = clean_data(pairs)[0:n_train, :]\n",
    "input_texts = clean_pairs[:, 0]\n",
    "target_texts = ['\\t' + text + '\\n' for text in clean_pairs[:, 1]]\n",
    "\n",
    "print('Length of input_texts:  ' + str(input_texts.shape))\n",
    "print('Length of target_texts: ' + str(input_texts.shape))\n",
    "max_encoder_seq_length = max(len(line) for line in input_texts)\n",
    "max_decoder_seq_length = max(len(line) for line in target_texts)\n",
    "\n",
    "print('max length of input  sentences: %d' % (max_encoder_seq_length))\n",
    "print('max length of target sentences: %d' % (max_decoder_seq_length))\n",
    "#input_x = <do one-hot encode...>\n",
    "encoder_input_seq, input_token_index = text2sequences(max_encoder_seq_length, \n",
    "                                                      input_texts)\n",
    "decoder_input_seq, target_token_index = text2sequences(max_decoder_seq_length, \n",
    "                                                       target_texts)\n",
    "\n",
    "print('shape of encoder_input_seq: ' + str(encoder_input_seq.shape))\n",
    "print('shape of input_token_index: ' + str(len(input_token_index)))\n",
    "print('shape of decoder_input_seq: ' + str(decoder_input_seq.shape))\n",
    "print('shape of target_token_index: ' + str(len(target_token_index)))\n",
    "num_encoder_tokens = len(input_token_index) + 1\n",
    "num_decoder_tokens = len(target_token_index) + 1\n",
    "\n",
    "print('num_encoder_tokens: ' + str(num_encoder_tokens))\n",
    "print('num_decoder_tokens: ' + str(num_decoder_tokens))\n",
    "encoder_input_data = onehot_encode(encoder_input_seq, max_encoder_seq_length, num_encoder_tokens)\n",
    "decoder_input_data = onehot_encode(decoder_input_seq, max_decoder_seq_length, num_decoder_tokens)\n",
    "\n",
    "decoder_target_seq = numpy.zeros(decoder_input_seq.shape)\n",
    "decoder_target_seq[:, 0:-1] = decoder_input_seq[:, 1:]\n",
    "decoder_target_data = onehot_encode(decoder_target_seq, \n",
    "                                    max_decoder_seq_length, \n",
    "                                    num_decoder_tokens)\n",
    "print(encoder_input_data.shape)\n",
    "print(decoder_input_data.shape)"
   ]
  },
  {
   "cell_type": "markdown",
   "metadata": {},
   "source": [
    "## Encoder network Bi-LSTM model"
   ]
  },
  {
   "cell_type": "code",
   "execution_count": 5,
   "metadata": {},
   "outputs": [],
   "source": [
    "from keras.layers import Input, LSTM, Bidirectional, Concatenate\n",
    "from keras.models import Model\n",
    "\n",
    "latent_dim = 256\n",
    "\n",
    "# inputs of the encoder network\n",
    "encoder_inputs = Input(shape=(None, num_encoder_tokens), name='encoder_inputs')\n",
    "\n",
    "# use Bi-LSTM instead of LSTM encoder network model\n",
    "encoder_bilstm = Bidirectional(LSTM(latent_dim, return_state=True, dropout=0.5, name='encoder_lstm'))\n",
    "_, forward_h, forward_c, backward_h, backward_c = encoder_bilstm(encoder_inputs)\n",
    "\n",
    "state_h = Concatenate()([forward_h, backward_h])\n",
    "state_c = Concatenate()([forward_c, backward_c])\n",
    "\n",
    "# build the encoder network model\n",
    "encoder_model = Model(inputs=encoder_inputs, outputs=[state_h, state_c],name='encoder')"
   ]
  },
  {
   "cell_type": "code",
   "execution_count": 6,
   "metadata": {},
   "outputs": [
    {
     "name": "stdout",
     "output_type": "stream",
     "text": [
      "__________________________________________________________________________________________________\n",
      "Layer (type)                    Output Shape         Param #     Connected to                     \n",
      "==================================================================================================\n",
      "encoder_inputs (InputLayer)     (None, None, 28)     0                                            \n",
      "__________________________________________________________________________________________________\n",
      "bidirectional_1 (Bidirectional) [(None, 512), (None, 583680      encoder_inputs[0][0]             \n",
      "__________________________________________________________________________________________________\n",
      "concatenate_1 (Concatenate)     (None, 512)          0           bidirectional_1[0][1]            \n",
      "                                                                 bidirectional_1[0][3]            \n",
      "__________________________________________________________________________________________________\n",
      "concatenate_2 (Concatenate)     (None, 512)          0           bidirectional_1[0][2]            \n",
      "                                                                 bidirectional_1[0][4]            \n",
      "==================================================================================================\n",
      "Total params: 583,680\n",
      "Trainable params: 583,680\n",
      "Non-trainable params: 0\n",
      "__________________________________________________________________________________________________\n"
     ]
    }
   ],
   "source": [
    "from IPython.display import SVG\n",
    "from keras.utils.vis_utils import model_to_dot, plot_model\n",
    "\n",
    "SVG(model_to_dot(encoder_model, show_shapes=False).create(prog='dot', format='svg'))\n",
    "\n",
    "plot_model(\n",
    "    model=encoder_model, show_shapes=False,\n",
    "    to_file='encoder.pdf'\n",
    ")\n",
    "\n",
    "encoder_model.summary()"
   ]
  },
  {
   "cell_type": "markdown",
   "metadata": {},
   "source": [
    "## Decoder network"
   ]
  },
  {
   "cell_type": "code",
   "execution_count": 7,
   "metadata": {},
   "outputs": [],
   "source": [
    "from keras.layers import Input, LSTM, Dense\n",
    "from keras.models import Model\n",
    "\n",
    "# inputs of the decoder network\n",
    "decoder_input_h = Input(shape=(latent_dim*2,), name='decoder_input_h')\n",
    "decoder_input_c = Input(shape=(latent_dim*2,), name='decoder_input_c')\n",
    "decoder_input_x = Input(shape=(None, num_decoder_tokens), name='decoder_input_x')\n",
    "\n",
    "# set the LSTM layer\n",
    "decoder_lstm = LSTM(latent_dim*2, return_sequences=True, return_state=True, dropout=0.5, name='decoder_lstm')\n",
    "decoder_lstm_outputs, state_h, state_c = decoder_lstm(decoder_input_x, initial_state=[decoder_input_h, decoder_input_c])\n",
    "\n",
    "# set the dense layer\n",
    "decoder_dense = Dense(num_decoder_tokens, activation='softmax', name='decoder_dense')\n",
    "decoder_outputs = decoder_dense(decoder_lstm_outputs)\n",
    "\n",
    "# build the decoder network model\n",
    "decoder_model = Model(inputs=[decoder_input_x, decoder_input_h, decoder_input_c], outputs=[decoder_outputs, state_h, state_c], name='decoder')"
   ]
  },
  {
   "cell_type": "code",
   "execution_count": 8,
   "metadata": {},
   "outputs": [
    {
     "name": "stdout",
     "output_type": "stream",
     "text": [
      "__________________________________________________________________________________________________\n",
      "Layer (type)                    Output Shape         Param #     Connected to                     \n",
      "==================================================================================================\n",
      "decoder_input_x (InputLayer)    (None, None, 30)     0                                            \n",
      "__________________________________________________________________________________________________\n",
      "decoder_input_h (InputLayer)    (None, 512)          0                                            \n",
      "__________________________________________________________________________________________________\n",
      "decoder_input_c (InputLayer)    (None, 512)          0                                            \n",
      "__________________________________________________________________________________________________\n",
      "decoder_lstm (LSTM)             [(None, None, 512),  1112064     decoder_input_x[0][0]            \n",
      "                                                                 decoder_input_h[0][0]            \n",
      "                                                                 decoder_input_c[0][0]            \n",
      "__________________________________________________________________________________________________\n",
      "decoder_dense (Dense)           (None, None, 30)     15390       decoder_lstm[0][0]               \n",
      "==================================================================================================\n",
      "Total params: 1,127,454\n",
      "Trainable params: 1,127,454\n",
      "Non-trainable params: 0\n",
      "__________________________________________________________________________________________________\n"
     ]
    }
   ],
   "source": [
    "from IPython.display import SVG\n",
    "from keras.utils.vis_utils import model_to_dot, plot_model\n",
    "\n",
    "SVG(model_to_dot(decoder_model, show_shapes=False).create(prog='dot', format='svg'))\n",
    "\n",
    "plot_model(\n",
    "    model=decoder_model, show_shapes=False,\n",
    "    to_file='decoder.pdf'\n",
    ")\n",
    "\n",
    "decoder_model.summary()"
   ]
  },
  {
   "cell_type": "markdown",
   "metadata": {},
   "source": [
    "## Connect the encoder and decoder"
   ]
  },
  {
   "cell_type": "code",
   "execution_count": 9,
   "metadata": {},
   "outputs": [
    {
     "name": "stdout",
     "output_type": "stream",
     "text": [
      "Tensor(\"decoder_lstm/while/Exit_2:0\", shape=(?, 512), dtype=float32)\n",
      "Tensor(\"decoder_input_h:0\", shape=(?, 512), dtype=float32)\n"
     ]
    }
   ],
   "source": [
    "# input layers\n",
    "encoder_input_x = Input(shape=(None, num_encoder_tokens), name='encoder_input_x')\n",
    "decoder_input_x = Input(shape=(None, num_decoder_tokens), name='decoder_input_x')\n",
    "\n",
    "# connect encoder to decoder\n",
    "encoder_final_states = encoder_model([encoder_input_x])\n",
    "decoder_lstm_output, _, _ = decoder_lstm(decoder_input_x, initial_state=encoder_final_states)\n",
    "decoder_pred = decoder_dense(decoder_lstm_output)\n",
    "\n",
    "model = Model(inputs=[encoder_input_x, decoder_input_x], outputs=decoder_pred, name='model_training')\n",
    "print(state_h)\n",
    "print(decoder_input_h)"
   ]
  },
  {
   "cell_type": "code",
   "execution_count": 10,
   "metadata": {},
   "outputs": [
    {
     "name": "stdout",
     "output_type": "stream",
     "text": [
      "__________________________________________________________________________________________________\n",
      "Layer (type)                    Output Shape         Param #     Connected to                     \n",
      "==================================================================================================\n",
      "encoder_input_x (InputLayer)    (None, None, 28)     0                                            \n",
      "__________________________________________________________________________________________________\n",
      "decoder_input_x (InputLayer)    (None, None, 30)     0                                            \n",
      "__________________________________________________________________________________________________\n",
      "encoder (Model)                 [(None, 512), (None, 583680      encoder_input_x[0][0]            \n",
      "__________________________________________________________________________________________________\n",
      "decoder_lstm (LSTM)             [(None, None, 512),  1112064     decoder_input_x[0][0]            \n",
      "                                                                 encoder[1][0]                    \n",
      "                                                                 encoder[1][1]                    \n",
      "__________________________________________________________________________________________________\n",
      "decoder_dense (Dense)           (None, None, 30)     15390       decoder_lstm[1][0]               \n",
      "==================================================================================================\n",
      "Total params: 1,711,134\n",
      "Trainable params: 1,711,134\n",
      "Non-trainable params: 0\n",
      "__________________________________________________________________________________________________\n"
     ]
    }
   ],
   "source": [
    "from IPython.display import SVG\n",
    "from keras.utils.vis_utils import model_to_dot, plot_model\n",
    "\n",
    "SVG(model_to_dot(model, show_shapes=False).create(prog='dot', format='svg'))\n",
    "\n",
    "plot_model(\n",
    "    model=model, show_shapes=False,\n",
    "    to_file='model_training.pdf'\n",
    ")\n",
    "\n",
    "model.summary()"
   ]
  },
  {
   "cell_type": "code",
   "execution_count": 11,
   "metadata": {},
   "outputs": [
    {
     "name": "stdout",
     "output_type": "stream",
     "text": [
      "Train on 16000 samples, validate on 4000 samples\n",
      "Epoch 1/50\n",
      "16000/16000 [==============================] - 143s 9ms/step - loss: 0.8027 - val_loss: 0.7063\n",
      "Epoch 2/50\n",
      "16000/16000 [==============================] - 134s 8ms/step - loss: 0.5810 - val_loss: 0.6341\n",
      "Epoch 3/50\n",
      "16000/16000 [==============================] - 136s 9ms/step - loss: 0.5252 - val_loss: 0.5823\n",
      "Epoch 4/50\n",
      "16000/16000 [==============================] - 136s 8ms/step - loss: 0.4849 - val_loss: 0.5418\n",
      "Epoch 5/50\n",
      "16000/16000 [==============================] - 141s 9ms/step - loss: 0.4542 - val_loss: 0.5111\n",
      "Epoch 6/50\n",
      "16000/16000 [==============================] - 136s 9ms/step - loss: 0.4289 - val_loss: 0.4881\n",
      "Epoch 7/50\n",
      "16000/16000 [==============================] - 136s 8ms/step - loss: 0.4077 - val_loss: 0.4671\n",
      "Epoch 8/50\n",
      "16000/16000 [==============================] - 136s 8ms/step - loss: 0.3894 - val_loss: 0.4554\n",
      "Epoch 9/50\n",
      "16000/16000 [==============================] - 136s 8ms/step - loss: 0.3729 - val_loss: 0.4350\n",
      "Epoch 10/50\n",
      "16000/16000 [==============================] - 136s 8ms/step - loss: 0.3577 - val_loss: 0.4238\n",
      "Epoch 11/50\n",
      "16000/16000 [==============================] - 136s 8ms/step - loss: 0.3449 - val_loss: 0.4123\n",
      "Epoch 12/50\n",
      "16000/16000 [==============================] - 136s 9ms/step - loss: 0.3326 - val_loss: 0.4065\n",
      "Epoch 13/50\n",
      "16000/16000 [==============================] - 136s 8ms/step - loss: 0.3206 - val_loss: 0.3928\n",
      "Epoch 14/50\n",
      "16000/16000 [==============================] - 136s 9ms/step - loss: 0.3096 - val_loss: 0.3903\n",
      "Epoch 15/50\n",
      "16000/16000 [==============================] - 134s 8ms/step - loss: 0.3005 - val_loss: 0.3791\n",
      "Epoch 16/50\n",
      "16000/16000 [==============================] - 136s 9ms/step - loss: 0.2903 - val_loss: 0.3743\n",
      "Epoch 17/50\n",
      "16000/16000 [==============================] - 137s 9ms/step - loss: 0.2814 - val_loss: 0.3713\n",
      "Epoch 18/50\n",
      "16000/16000 [==============================] - 137s 9ms/step - loss: 0.2729 - val_loss: 0.3678\n",
      "Epoch 19/50\n",
      "16000/16000 [==============================] - 137s 9ms/step - loss: 0.2664 - val_loss: 0.3636\n",
      "Epoch 20/50\n",
      "16000/16000 [==============================] - 137s 9ms/step - loss: 0.2591 - val_loss: 0.3586\n",
      "Epoch 21/50\n",
      "16000/16000 [==============================] - 137s 9ms/step - loss: 0.2519 - val_loss: 0.3567\n",
      "Epoch 22/50\n",
      "16000/16000 [==============================] - 137s 9ms/step - loss: 0.2449 - val_loss: 0.3530\n",
      "Epoch 23/50\n",
      "16000/16000 [==============================] - 137s 9ms/step - loss: 0.2394 - val_loss: 0.3567\n",
      "Epoch 24/50\n",
      "16000/16000 [==============================] - 137s 9ms/step - loss: 0.2334 - val_loss: 0.3548\n",
      "Epoch 25/50\n",
      "16000/16000 [==============================] - 137s 9ms/step - loss: 0.2279 - val_loss: 0.3515\n",
      "Epoch 26/50\n",
      "16000/16000 [==============================] - 137s 9ms/step - loss: 0.2224 - val_loss: 0.3483\n",
      "Epoch 27/50\n",
      "16000/16000 [==============================] - 138s 9ms/step - loss: 0.2175 - val_loss: 0.3485\n",
      "Epoch 28/50\n",
      "16000/16000 [==============================] - 135s 8ms/step - loss: 0.2119 - val_loss: 0.3462\n",
      "Epoch 29/50\n",
      "16000/16000 [==============================] - 138s 9ms/step - loss: 0.2068 - val_loss: 0.3497\n",
      "Epoch 30/50\n",
      "16000/16000 [==============================] - 138s 9ms/step - loss: 0.2023 - val_loss: 0.3517\n",
      "Epoch 31/50\n",
      "16000/16000 [==============================] - 138s 9ms/step - loss: 0.1987 - val_loss: 0.3502\n",
      "Epoch 32/50\n",
      "16000/16000 [==============================] - 139s 9ms/step - loss: 0.1941 - val_loss: 0.3510\n",
      "Epoch 33/50\n",
      "16000/16000 [==============================] - 139s 9ms/step - loss: 0.1903 - val_loss: 0.3507\n",
      "Epoch 34/50\n",
      "16000/16000 [==============================] - 140s 9ms/step - loss: 0.1864 - val_loss: 0.3540\n",
      "Epoch 35/50\n",
      "16000/16000 [==============================] - 131s 8ms/step - loss: 0.1826 - val_loss: 0.3488\n",
      "Epoch 36/50\n",
      "16000/16000 [==============================] - 132s 8ms/step - loss: 0.1788 - val_loss: 0.3529\n",
      "Epoch 37/50\n",
      "16000/16000 [==============================] - 132s 8ms/step - loss: 0.1752 - val_loss: 0.3560\n",
      "Epoch 38/50\n",
      "16000/16000 [==============================] - 132s 8ms/step - loss: 0.1727 - val_loss: 0.3539\n",
      "Epoch 39/50\n",
      "16000/16000 [==============================] - 132s 8ms/step - loss: 0.1688 - val_loss: 0.3564\n",
      "Epoch 40/50\n",
      "16000/16000 [==============================] - 131s 8ms/step - loss: 0.1655 - val_loss: 0.3578\n",
      "Epoch 41/50\n",
      "16000/16000 [==============================] - 132s 8ms/step - loss: 0.1625 - val_loss: 0.3568\n",
      "Epoch 42/50\n",
      "16000/16000 [==============================] - 131s 8ms/step - loss: 0.1592 - val_loss: 0.3606\n",
      "Epoch 43/50\n",
      "16000/16000 [==============================] - 132s 8ms/step - loss: 0.1574 - val_loss: 0.3629\n",
      "Epoch 44/50\n",
      "16000/16000 [==============================] - 131s 8ms/step - loss: 0.1546 - val_loss: 0.3659\n",
      "Epoch 45/50\n",
      "16000/16000 [==============================] - 132s 8ms/step - loss: 0.1514 - val_loss: 0.3663\n",
      "Epoch 46/50\n",
      "16000/16000 [==============================] - 132s 8ms/step - loss: 0.1495 - val_loss: 0.3674\n",
      "Epoch 47/50\n",
      "16000/16000 [==============================] - 132s 8ms/step - loss: 0.1464 - val_loss: 0.3716\n",
      "Epoch 48/50\n",
      "16000/16000 [==============================] - 132s 8ms/step - loss: 0.1439 - val_loss: 0.3720\n",
      "Epoch 49/50\n",
      "16000/16000 [==============================] - 132s 8ms/step - loss: 0.1420 - val_loss: 0.3683\n",
      "Epoch 50/50\n",
      "16000/16000 [==============================] - 132s 8ms/step - loss: 0.1402 - val_loss: 0.3714\n"
     ]
    },
    {
     "name": "stderr",
     "output_type": "stream",
     "text": [
      "/anaconda3/lib/python3.6/site-packages/keras/engine/network.py:877: UserWarning: Layer decoder_lstm was passed non-serializable keyword arguments: {'initial_state': [<tf.Tensor 'encoder/concatenate_1/concat:0' shape=(?, 512) dtype=float32>, <tf.Tensor 'encoder/concatenate_2/concat:0' shape=(?, 512) dtype=float32>]}. They will not be included in the serialized model (and thus will be missing at deserialization time).\n",
      "  '. They will not be included '\n"
     ]
    }
   ],
   "source": [
    "model.compile(optimizer='rmsprop', loss='categorical_crossentropy')\n",
    "\n",
    "model.fit([encoder_input_data, decoder_input_data],  # training data\n",
    "          decoder_target_data,                       # labels (left shift of the target sequences)\n",
    "          batch_size=64, epochs=50, validation_split=0.2)\n",
    "\n",
    "model.save('seq2seq.h5')"
   ]
  },
  {
   "cell_type": "markdown",
   "metadata": {},
   "source": [
    "##### translated_sentence \n",
    "# Reverse-lookup token index to decode sequences back to something readable.\n",
    "reverse_input_char_index = dict((i, char) for char, i in input_token_index.items())\n",
    "reverse_target_char_index = dict((i, char) for char, i in target_token_index.items())\n",
    "for seq_index in range(2100, 2120):\n",
    "    # Take one sequence (part of the training set)\n",
    "    # for trying out decoding.\n",
    "    input_seq = encoder_input_data[seq_index: seq_index + 1]\n",
    "    decoded_sentence = decode_sequence(input_seq)\n",
    "    print('-')\n",
    "    print('source sentence is: ', input_texts[seq_index])\n",
    "    print('translated sentence is(true): ', target_texts[seq_index][1:-1])\n",
    "    print('translated sentence is(false):', decoded_sentence[0:-1])"
   ]
  },
  {
   "cell_type": "code",
   "execution_count": 94,
   "metadata": {},
   "outputs": [],
   "source": [
    "from keras.layers import Input, LSTM\n",
    "from keras.models import Model\n",
    "\n",
    "latent_dim = 256\n",
    "\n",
    "# inputs of the encoder network\n",
    "encoder_inputs = Input(shape=(None, num_encoder_tokens), \n",
    "                       name='encoder_inputs')\n",
    "\n",
    "# set the LSTM layer\n",
    "encoder_lstm = LSTM(latent_dim, return_state=True, \n",
    "                    dropout=0.5, name='encoder_lstm')\n",
    "_, state_h, state_c = encoder_lstm(encoder_inputs)\n",
    "\n",
    "# build the encoder network model\n",
    "encoder_model = Model(inputs=encoder_inputs, \n",
    "                      outputs=[state_h, state_c],\n",
    "                      name='encoder')"
   ]
  },
  {
   "cell_type": "code",
   "execution_count": 95,
   "metadata": {},
   "outputs": [],
   "source": [
    "from keras.layers import Input, LSTM, Dense\n",
    "from keras.models import Model\n",
    "\n",
    "# inputs of the decoder network\n",
    "decoder_input_h = Input(shape=(latent_dim,), name='decoder_input_h')\n",
    "decoder_input_c = Input(shape=(latent_dim,), name='decoder_input_c')\n",
    "decoder_input_x = Input(shape=(None, num_decoder_tokens), name='decoder_input_x')\n",
    "\n",
    "# set the LSTM layer\n",
    "decoder_lstm = LSTM(latent_dim, return_sequences=True, \n",
    "                    return_state=True, dropout=0.5, name='decoder_lstm')\n",
    "decoder_lstm_outputs, state_h, state_c = decoder_lstm(decoder_input_x, \n",
    "                                                      initial_state=[decoder_input_h, decoder_input_c])\n",
    "\n",
    "# set the dense layer\n",
    "decoder_dense = Dense(num_decoder_tokens, activation='softmax', name='decoder_dense')\n",
    "decoder_outputs = decoder_dense(decoder_lstm_outputs)\n",
    "\n",
    "# build the decoder network model\n",
    "decoder_model = Model(inputs=[decoder_input_x, decoder_input_h, decoder_input_c],\n",
    "                      outputs=[decoder_outputs, state_h, state_c],\n",
    "                      name='decoder')"
   ]
  },
  {
   "cell_type": "code",
   "execution_count": 96,
   "metadata": {},
   "outputs": [],
   "source": [
    "# input layers\n",
    "encoder_input_x = Input(shape=(None, num_encoder_tokens), name='encoder_input_x')\n",
    "decoder_input_x = Input(shape=(None, num_decoder_tokens), name='decoder_input_x')\n",
    "\n",
    "# connect encoder to decoder\n",
    "encoder_final_states = encoder_model([encoder_input_x])\n",
    "decoder_lstm_output, _, _ = decoder_lstm(decoder_input_x, initial_state=encoder_final_states)\n",
    "decoder_pred = decoder_dense(decoder_lstm_output)\n",
    "\n",
    "model = Model(inputs=[encoder_input_x, decoder_input_x], \n",
    "              outputs=decoder_pred, \n",
    "              name='model_training')"
   ]
  },
  {
   "cell_type": "code",
   "execution_count": 97,
   "metadata": {},
   "outputs": [
    {
     "name": "stdout",
     "output_type": "stream",
     "text": [
      "Train on 16000 samples, validate on 4000 samples\n",
      "Epoch 1/5\n",
      "16000/16000 [==============================] - 42s 3ms/step - loss: 0.7912 - val_loss: 0.7449\n",
      "Epoch 2/5\n",
      "16000/16000 [==============================] - 40s 2ms/step - loss: 0.5980 - val_loss: 0.6655\n",
      "Epoch 3/5\n",
      "16000/16000 [==============================] - 39s 2ms/step - loss: 0.5496 - val_loss: 0.6150\n",
      "Epoch 4/5\n",
      "16000/16000 [==============================] - 40s 2ms/step - loss: 0.5153 - val_loss: 0.5873\n",
      "Epoch 5/5\n",
      "16000/16000 [==============================] - 40s 3ms/step - loss: 0.4925 - val_loss: 0.5608\n"
     ]
    },
    {
     "name": "stderr",
     "output_type": "stream",
     "text": [
      "/anaconda3/lib/python3.6/site-packages/keras/engine/network.py:877: UserWarning: Layer decoder_lstm was passed non-serializable keyword arguments: {'initial_state': [<tf.Tensor 'encoder_2/encoder_lstm/while/Exit_2:0' shape=(?, 256) dtype=float32>, <tf.Tensor 'encoder_2/encoder_lstm/while/Exit_3:0' shape=(?, 256) dtype=float32>]}. They will not be included in the serialized model (and thus will be missing at deserialization time).\n",
      "  '. They will not be included '\n"
     ]
    }
   ],
   "source": [
    "model.compile(optimizer='rmsprop', loss='categorical_crossentropy')\n",
    "\n",
    "model.fit([encoder_input_data, decoder_input_data],  # training data\n",
    "          decoder_target_data,                       # labels (left shift of the target sequences)\n",
    "          batch_size=64, epochs=5, validation_split=0.2)\n",
    "\n",
    "model.save('seq2seq.h5')"
   ]
  },
  {
   "cell_type": "code",
   "execution_count": 98,
   "metadata": {},
   "outputs": [],
   "source": [
    "# Reverse-lookup token index to decode sequences back to something readable.\n",
    "reverse_input_char_index = dict((i, char) for char, i in input_token_index.items())\n",
    "reverse_target_char_index = dict((i, char) for char, i in target_token_index.items())"
   ]
  },
  {
   "cell_type": "code",
   "execution_count": 99,
   "metadata": {},
   "outputs": [],
   "source": [
    "def decode_sequence(input_seq):\n",
    "    states_value = encoder_model.predict(input_seq)\n",
    "\n",
    "    target_seq = numpy.zeros((1, 1, num_decoder_tokens))\n",
    "    target_seq[0, 0, target_token_index['\\t']] = 1.\n",
    "\n",
    "    stop_condition = False\n",
    "    decoded_sentence = ''\n",
    "    while not stop_condition:\n",
    "        output_tokens, h, c = decoder_model.predict([target_seq] + states_value)\n",
    "\n",
    "        # this line of code is greedy selection\n",
    "        # try to use multinomial sampling instead (with temperature)\n",
    "        sampled_token_index = numpy.argmax(output_tokens[0, -1, :])\n",
    "        \n",
    "        sampled_char = reverse_target_char_index[sampled_token_index]\n",
    "        decoded_sentence += sampled_char\n",
    "\n",
    "        if (sampled_char == '\\n' or\n",
    "           len(decoded_sentence) > max_decoder_seq_length):\n",
    "            stop_condition = True\n",
    "\n",
    "        target_seq = numpy.zeros((1, 1, num_decoder_tokens))\n",
    "        target_seq[0, 0, sampled_token_index] = 1.\n",
    "\n",
    "        states_value = [h, c]\n",
    "\n",
    "    return decoded_sentence"
   ]
  },
  {
   "cell_type": "code",
   "execution_count": 100,
   "metadata": {},
   "outputs": [
    {
     "name": "stdout",
     "output_type": "stream",
     "text": [
      "-\n",
      "English:        no one came\n",
      "Spanish (true):  ninguno acudio\n",
      "Spanish (pred):  no me esta a tom\n",
      "-\n",
      "English:        no one died\n",
      "Spanish (true):  nadie murio\n",
      "Spanish (pred):  no me esta a tom\n",
      "-\n",
      "English:        no one died\n",
      "Spanish (true):  no murio nadie\n",
      "Spanish (pred):  no me esta a tom\n",
      "-\n",
      "English:        nobody came\n",
      "Spanish (true):  nadie vino\n",
      "Spanish (pred):  no me esta a tom\n",
      "-\n",
      "English:        nobody came\n",
      "Spanish (true):  no vino nadie\n",
      "Spanish (pred):  no me esta a tom\n",
      "-\n",
      "English:        nobody came\n",
      "Spanish (true):  no ha venido nadie\n",
      "Spanish (pred):  no me esta a tom\n",
      "-\n",
      "English:        nobody died\n",
      "Spanish (true):  nadie murio\n",
      "Spanish (pred):  no me esta a tom\n",
      "-\n",
      "English:        nobody died\n",
      "Spanish (true):  no murio nadie\n",
      "Spanish (pred):  no me esta a tom\n",
      "-\n",
      "English:        nobody knew\n",
      "Spanish (true):  nadie lo sabia\n",
      "Spanish (pred):  no me esta a tom\n",
      "-\n",
      "English:        nobody lied\n",
      "Spanish (true):  nadie mintio\n",
      "Spanish (pred):  no me esta a tom\n",
      "-\n",
      "English:        now im sad\n",
      "Spanish (true):  ahora estoy triste\n",
      "Spanish (pred):  no le mista\n",
      "-\n",
      "English:        now help me\n",
      "Spanish (true):  ahora ayudame\n",
      "Spanish (pred):  no le mista\n",
      "-\n",
      "English:        now hold on\n",
      "Spanish (true):  ahora resiste\n",
      "Spanish (pred):  no le mista\n",
      "-\n",
      "English:        now move on\n",
      "Spanish (true):  ahora sigue\n",
      "Spanish (pred):  no le mista\n",
      "-\n",
      "English:        now move on\n",
      "Spanish (true):  ahora continua\n",
      "Spanish (pred):  no le mista\n",
      "-\n",
      "English:        now move on\n",
      "Spanish (true):  ahora prosigue\n",
      "Spanish (pred):  no le mista\n",
      "-\n",
      "English:        now shut up\n",
      "Spanish (true):  ahora callate\n",
      "Spanish (pred):  no le mista\n",
      "-\n",
      "English:        ok i agree\n",
      "Spanish (true):  bueno estoy de acuerdo\n",
      "Spanish (pred):  son me tomas\n",
      "-\n",
      "English:        one is blue\n",
      "Spanish (true):  uno es azul\n",
      "Spanish (pred):  no esta esta\n",
      "-\n",
      "English:        please sing\n",
      "Spanish (true):  canta por favor\n",
      "Spanish (pred):  dejamo esta a tom\n"
     ]
    }
   ],
   "source": [
    "for seq_index in range(2100, 2120):\n",
    "    # Take one sequence (part of the training set)\n",
    "    # for trying out decoding.\n",
    "    input_seq = encoder_input_data[seq_index: seq_index + 1]\n",
    "    decoded_sentence = decode_sequence(input_seq)\n",
    "    print('-')\n",
    "    print('English:       ', input_texts[seq_index])\n",
    "    print('Spanish (true): ', target_texts[seq_index][1:-1])\n",
    "    print('Spanish (pred): ', decoded_sentence[0:-1])"
   ]
  },
  {
   "cell_type": "markdown",
   "metadata": {},
   "source": [
    "## 5. Evaluate the translation using BLEU score\n",
    "\n",
    "Reference: \n",
    "- https://machinelearningmastery.com/calculate-bleu-score-for-text-python/\n",
    "- https://en.wikipedia.org/wiki/BLEU\n"
   ]
  },
  {
   "cell_type": "code",
   "execution_count": 93,
   "metadata": {},
   "outputs": [
    {
     "name": "stdout",
     "output_type": "stream",
     "text": [
      "source sentence is: is it good\n",
      "translated sentence is: esta estanado\n",
      "\n",
      "['esta', 'estanado\\n']\n",
      "[['esta', 'bueno']]\n",
      "0.5\n"
     ]
    },
    {
     "name": "stderr",
     "output_type": "stream",
     "text": [
      "/anaconda3/lib/python3.6/site-packages/nltk/translate/bleu_score.py:503: UserWarning: \n",
      "The hypothesis contains 0 counts of 2-gram overlaps.\n",
      "Therefore the BLEU score evaluates to 0, independently of\n",
      "how many N-gram overlaps of lower order it contains.\n",
      "Consider using lower n-gram order or use SmoothingFunction()\n",
      "  warnings.warn(_msg)\n",
      "/anaconda3/lib/python3.6/site-packages/nltk/translate/bleu_score.py:503: UserWarning: \n",
      "The hypothesis contains 0 counts of 3-gram overlaps.\n",
      "Therefore the BLEU score evaluates to 0, independently of\n",
      "how many N-gram overlaps of lower order it contains.\n",
      "Consider using lower n-gram order or use SmoothingFunction()\n",
      "  warnings.warn(_msg)\n"
     ]
    }
   ],
   "source": [
    "index=1200;\n",
    "input_sentence = input_texts[index]\n",
    "\n",
    "input_sequence = text2sequences(len(input_sentence), input_sentence)[0]\n",
    "\n",
    "input_x = onehot_encode(input_sequence, len(input_sentence), num_encoder_tokens)\n",
    "\n",
    "translated_sentence = decode_sequence(input_x)\n",
    "\n",
    "print('source sentence is: ' + input_sentence)\n",
    "print('translated sentence is: ' + translated_sentence)\n",
    "\n",
    "from nltk.translate.bleu_score import sentence_bleu\n",
    "a=translated_sentence.split(\" \")\n",
    "b=[target_texts[index][1:-1].split(\" \")]\n",
    "score = sentence_bleu(b, a,weights=(1,0,0))\n",
    "print(a)\n",
    "print(b)\n",
    "print(score)"
   ]
  },
  {
   "cell_type": "code",
   "execution_count": null,
   "metadata": {},
   "outputs": [],
   "source": []
  }
 ],
 "metadata": {
  "kernelspec": {
   "display_name": "Python 3",
   "language": "python",
   "name": "python3"
  },
  "language_info": {
   "codemirror_mode": {
    "name": "ipython",
    "version": 3
   },
   "file_extension": ".py",
   "mimetype": "text/x-python",
   "name": "python",
   "nbconvert_exporter": "python",
   "pygments_lexer": "ipython3",
   "version": "3.6.8"
  }
 },
 "nbformat": 4,
 "nbformat_minor": 2
}
